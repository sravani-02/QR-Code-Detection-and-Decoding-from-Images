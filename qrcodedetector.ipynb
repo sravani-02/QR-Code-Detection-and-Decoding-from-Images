{
 "cells": [
  {
   "cell_type": "code",
   "execution_count": 1,
   "id": "5bbf6e41",
   "metadata": {},
   "outputs": [
    {
     "name": "stdout",
     "output_type": "stream",
     "text": [
      "Requirement already satisfied: pyzbar in c:\\users\\vinni v\\anaconda3\\lib\\site-packages (0.1.9)\n",
      "Note: you may need to restart the kernel to use updated packages.\n"
     ]
    }
   ],
   "source": [
    "pip install pyzbar"
   ]
  },
  {
   "cell_type": "code",
   "execution_count": 2,
   "id": "e984f881",
   "metadata": {},
   "outputs": [
    {
     "name": "stdout",
     "output_type": "stream",
     "text": [
      "Requirement already satisfied: cvzone in c:\\users\\vinni v\\anaconda3\\lib\\site-packages (1.6.1)\n",
      "Requirement already satisfied: opencv-python in c:\\users\\vinni v\\anaconda3\\lib\\site-packages (from cvzone) (4.8.1.78)\n",
      "Requirement already satisfied: numpy in c:\\users\\vinni v\\anaconda3\\lib\\site-packages (from cvzone) (1.24.3)\n",
      "Note: you may need to restart the kernel to use updated packages.\n"
     ]
    }
   ],
   "source": [
    "pip install cvzone"
   ]
  },
  {
   "cell_type": "code",
   "execution_count": 3,
   "id": "c55acf77",
   "metadata": {},
   "outputs": [
    {
     "name": "stdout",
     "output_type": "stream",
     "text": [
      "Requirement already satisfied: opencv-python in c:\\users\\vinni v\\anaconda3\\lib\\site-packages (4.8.1.78)\n",
      "Requirement already satisfied: numpy>=1.21.2 in c:\\users\\vinni v\\anaconda3\\lib\\site-packages (from opencv-python) (1.24.3)\n",
      "Note: you may need to restart the kernel to use updated packages.\n"
     ]
    }
   ],
   "source": [
    "pip install opencv-python"
   ]
  },
  {
   "cell_type": "code",
   "execution_count": null,
   "id": "048f46b2",
   "metadata": {},
   "outputs": [
    {
     "name": "stdout",
     "output_type": "stream",
     "text": [
      "b'http://itunes.apple.com/us/app/encyclopaedia-britannica/id447919187?mt=8'\n",
      "b'http://itunes.apple.com/us/app/encyclopaedia-britannica/id447919187?mt=8'\n",
      "b'http://itunes.apple.com/us/app/encyclopaedia-britannica/id447919187?mt=8'\n",
      "b'http://itunes.apple.com/us/app/encyclopaedia-britannica/id447919187?mt=8'\n",
      "b'http://itunes.apple.com/us/app/encyclopaedia-britannica/id447919187?mt=8'\n",
      "b'http://itunes.apple.com/us/app/encyclopaedia-britannica/id447919187?mt=8'\n",
      "b'http://itunes.apple.com/us/app/encyclopaedia-britannica/id447919187?mt=8'\n",
      "b'http://itunes.apple.com/us/app/encyclopaedia-britannica/id447919187?mt=8'\n",
      "b'http://itunes.apple.com/us/app/encyclopaedia-britannica/id447919187?mt=8'\n",
      "b'http://itunes.apple.com/us/app/encyclopaedia-britannica/id447919187?mt=8'\n",
      "b'http://itunes.apple.com/us/app/encyclopaedia-britannica/id447919187?mt=8'\n",
      "b'http://itunes.apple.com/us/app/encyclopaedia-britannica/id447919187?mt=8'\n",
      "b'http://itunes.apple.com/us/app/encyclopaedia-britannica/id447919187?mt=8'\n",
      "b'http://itunes.apple.com/us/app/encyclopaedia-britannica/id447919187?mt=8'\n",
      "b'http://itunes.apple.com/us/app/encyclopaedia-britannica/id447919187?mt=8'\n",
      "b'http://itunes.apple.com/us/app/encyclopaedia-britannica/id447919187?mt=8'\n",
      "b'http://itunes.apple.com/us/app/encyclopaedia-britannica/id447919187?mt=8'\n",
      "b'http://itunes.apple.com/us/app/encyclopaedia-britannica/id447919187?mt=8'\n",
      "b'http://itunes.apple.com/us/app/encyclopaedia-britannica/id447919187?mt=8'\n",
      "b'http://itunes.apple.com/us/app/encyclopaedia-britannica/id447919187?mt=8'\n",
      "b'http://itunes.apple.com/us/app/encyclopaedia-britannica/id447919187?mt=8'\n",
      "b'http://itunes.apple.com/us/app/encyclopaedia-britannica/id447919187?mt=8'\n",
      "b'http://itunes.apple.com/us/app/encyclopaedia-britannica/id447919187?mt=8'\n",
      "b'http://itunes.apple.com/us/app/encyclopaedia-britannica/id447919187?mt=8'\n",
      "b'http://itunes.apple.com/us/app/encyclopaedia-britannica/id447919187?mt=8'\n",
      "b'http://itunes.apple.com/us/app/encyclopaedia-britannica/id447919187?mt=8'\n",
      "b'http://itunes.apple.com/us/app/encyclopaedia-britannica/id447919187?mt=8'\n"
     ]
    }
   ],
   "source": [
    "\n",
    "import cv2\n",
    "\n",
    "import cvzone\n",
    "\n",
    "\n",
    "\n",
    "\n",
    "from pyzbar import pyzbar as bar \n",
    "\n",
    "\n",
    "\n",
    "cap = cv2.VideoCapture(0)\n",
    "OUTPUT = None\n",
    "while 1:\n",
    "    ret,frame = cap.read()\n",
    "    \n",
    "    \n",
    "    \n",
    "    \n",
    "\n",
    "    result = bar.decode(frame)\n",
    "    for data in result:\n",
    "        OUTPUT = data.data\n",
    "        print(data.data)\n",
    "        \n",
    "        \n",
    "\n",
    "    cvzone.putTextRect(frame,'QRCode Scanner',[190,30],thickness=2, scale=2, border=2)\n",
    "    cvzone.putTextRect(frame,f'{OUTPUT}',[11,400],thickness=4, scale=2, border=2)\n",
    "    OUTPUT= None\n",
    "    \n",
    "    \n",
    "    \n",
    "    \n",
    "\n",
    "    cv2.imshow('QRdetector', frame)\n",
    "    cv2.waitKey(1)"
   ]
  },
  {
   "cell_type": "code",
   "execution_count": null,
   "id": "6a18eac5",
   "metadata": {},
   "outputs": [],
   "source": []
  },
  {
   "cell_type": "code",
   "execution_count": null,
   "id": "5ce9c0fa",
   "metadata": {},
   "outputs": [],
   "source": [
    "\n"
   ]
  },
  {
   "cell_type": "code",
   "execution_count": null,
   "id": "741ee45d",
   "metadata": {},
   "outputs": [],
   "source": [
    "\n"
   ]
  },
  {
   "cell_type": "code",
   "execution_count": null,
   "id": "522126a6",
   "metadata": {},
   "outputs": [],
   "source": [
    "\n",
    "    "
   ]
  },
  {
   "cell_type": "code",
   "execution_count": null,
   "id": "a9d07f00",
   "metadata": {},
   "outputs": [],
   "source": []
  },
  {
   "cell_type": "code",
   "execution_count": null,
   "id": "3817b0ab",
   "metadata": {},
   "outputs": [],
   "source": []
  },
  {
   "cell_type": "code",
   "execution_count": null,
   "id": "0510efd0",
   "metadata": {},
   "outputs": [],
   "source": []
  }
 ],
 "metadata": {
  "kernelspec": {
   "display_name": "Python 3 (ipykernel)",
   "language": "python",
   "name": "python3"
  },
  "language_info": {
   "codemirror_mode": {
    "name": "ipython",
    "version": 3
   },
   "file_extension": ".py",
   "mimetype": "text/x-python",
   "name": "python",
   "nbconvert_exporter": "python",
   "pygments_lexer": "ipython3",
   "version": "3.11.5"
  }
 },
 "nbformat": 4,
 "nbformat_minor": 5
}
